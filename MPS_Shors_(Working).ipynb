{
  "nbformat": 4,
  "nbformat_minor": 0,
  "metadata": {
    "colab": {
      "provenance": []
    },
    "kernelspec": {
      "name": "python3",
      "display_name": "Python 3"
    },
    "language_info": {
      "name": "python"
    }
  },
  "cells": [
    {
      "cell_type": "markdown",
      "source": [
        "<span style = \"color: red\">Following code is the working version of using MPS shors for factorization of co-prime numbers</span>\n",
        "\n",
        "- In another code called `MPS Shors Analysis` we will look at the different properties of using MPS Shors and try to compare with the other versions of Shor's available"
      ],
      "metadata": {
        "id": "qb-04RriMGt4"
      }
    },
    {
      "cell_type": "markdown",
      "source": [
        "# Installations"
      ],
      "metadata": {
        "id": "-dejcgmtOp0w"
      }
    },
    {
      "cell_type": "code",
      "execution_count": 1,
      "metadata": {
        "colab": {
          "base_uri": "https://localhost:8080/"
        },
        "id": "lF5_JGthL7gx",
        "outputId": "f8989f7e-cf18-48d8-f06f-7ca02470ed4a"
      },
      "outputs": [
        {
          "output_type": "stream",
          "name": "stdout",
          "text": [
            "\u001b[?25l   \u001b[90m━━━━━━━━━━━━━━━━━━━━━━━━━━━━━━━━━━━━━━━━\u001b[0m \u001b[32m0.0/189.8 kB\u001b[0m \u001b[31m?\u001b[0m eta \u001b[36m-:--:--\u001b[0m\r\u001b[2K   \u001b[91m━━━━━━━━━━━━━━━━━━━━━━━━━━━━━━━━━━━━━━\u001b[0m\u001b[91m╸\u001b[0m\u001b[90m━\u001b[0m \u001b[32m184.3/189.8 kB\u001b[0m \u001b[31m7.5 MB/s\u001b[0m eta \u001b[36m0:00:01\u001b[0m\r\u001b[2K   \u001b[90m━━━━━━━━━━━━━━━━━━━━━━━━━━━━━━━━━━━━━━━━\u001b[0m \u001b[32m189.8/189.8 kB\u001b[0m \u001b[31m4.0 MB/s\u001b[0m eta \u001b[36m0:00:00\u001b[0m\n",
            "\u001b[2K   \u001b[90m━━━━━━━━━━━━━━━━━━━━━━━━━━━━━━━━━━━━━━━━\u001b[0m \u001b[32m930.0/930.0 kB\u001b[0m \u001b[31m24.8 MB/s\u001b[0m eta \u001b[36m0:00:00\u001b[0m\n",
            "\u001b[2K   \u001b[90m━━━━━━━━━━━━━━━━━━━━━━━━━━━━━━━━━━━━━━━━\u001b[0m \u001b[32m1.1/1.1 MB\u001b[0m \u001b[31m18.8 MB/s\u001b[0m eta \u001b[36m0:00:00\u001b[0m\n",
            "\u001b[2K   \u001b[90m━━━━━━━━━━━━━━━━━━━━━━━━━━━━━━━━━━━━━━━━\u001b[0m \u001b[32m107.8/107.8 kB\u001b[0m \u001b[31m3.0 MB/s\u001b[0m eta \u001b[36m0:00:00\u001b[0m\n",
            "\u001b[2K   \u001b[90m━━━━━━━━━━━━━━━━━━━━━━━━━━━━━━━━━━━━━━━━\u001b[0m \u001b[32m1.7/1.7 MB\u001b[0m \u001b[31m17.6 MB/s\u001b[0m eta \u001b[36m0:00:00\u001b[0m\n",
            "\u001b[2K   \u001b[90m━━━━━━━━━━━━━━━━━━━━━━━━━━━━━━━━━━━━━━━━\u001b[0m \u001b[32m2.1/2.1 MB\u001b[0m \u001b[31m42.3 MB/s\u001b[0m eta \u001b[36m0:00:00\u001b[0m\n",
            "\u001b[?25h"
          ]
        }
      ],
      "source": [
        "!pip install --quiet cotengra\n",
        "!pip install --quiet kahypar\n",
        "!pip install --quiet scikit_optimize\n",
        "!pip install --quiet networkx\n",
        "!pip install --quiet tqdm\n",
        "!pip install --quiet quimb"
      ]
    },
    {
      "cell_type": "markdown",
      "source": [
        "# Imports"
      ],
      "metadata": {
        "id": "FAFJkWouOunw"
      }
    },
    {
      "cell_type": "code",
      "source": [
        "import numpy as np\n",
        "from numpy import linalg as LA\n",
        "from numpy import pi\n",
        "\n",
        "import quimb\n",
        "import quimb.tensor as qtn\n",
        "import quimb as qu\n",
        "\n",
        "import networkx as nx\n",
        "import cotengra as ctg\n",
        "import time\n",
        "import tqdm\n",
        "\n",
        "import math\n",
        "from math import pi, ceil, log2"
      ],
      "metadata": {
        "colab": {
          "base_uri": "https://localhost:8080/"
        },
        "id": "UK7qyKp3OoYC",
        "outputId": "725d4e09-6e38-4e5d-ac47-db14e195d926"
      },
      "execution_count": 2,
      "outputs": [
        {
          "output_type": "stream",
          "name": "stderr",
          "text": [
            "/usr/local/lib/python3.11/dist-packages/cotengra/hyperoptimizers/hyper.py:57: UserWarning: Couldn't find `optuna`, `cmaes`, `baytune (btb)`, `chocolate`, or `nevergrad` so will use completely random sampling in place of hyper-optimization.\n",
            "  warnings.warn(\n",
            "/usr/local/lib/python3.11/dist-packages/cotengra/hyperoptimizers/hyper.py:76: UserWarning: Couldn't find `optuna`, `cmaes`, `baytune (btb)`, `chocolate`, or `nevergrad` so will use completely random sampling in place of hyper-optimization.\n",
            "  warnings.warn(\n"
          ]
        }
      ]
    },
    {
      "cell_type": "markdown",
      "source": [
        "# Functions"
      ],
      "metadata": {
        "id": "QM96iF7hQWIS"
      }
    },
    {
      "cell_type": "code",
      "source": [
        "#Variable Definitons\n",
        "H = quimb.hadamard()\n",
        "\n",
        "X = qu.pauli('X')\n",
        "\n",
        "\n",
        "#Functions\n",
        "def toBinary(val):\n",
        "  binary = ''\n",
        "  loop = val\n",
        "\n",
        "  while loop>0:\n",
        "    temp = loop % 2\n",
        "    loop = loop//2\n",
        "    binary += str(temp)\n",
        "\n",
        "  binary = binary[::-1]\n",
        "  return binary\n",
        "\n",
        "#Binary to Integer\n",
        "def toInteger(val: str):\n",
        "  num = 0\n",
        "  val = val[::-1]\n",
        "\n",
        "  for i in range(len(val)):\n",
        "    if val[i] == '0':\n",
        "      continue\n",
        "\n",
        "    else:\n",
        "      num += 2**i\n",
        "\n",
        "  return num\n",
        "\n",
        "#The inverse QFT operation\n",
        "def inverse_qft(mps_state, binary, contract_value_h, contract_value):\n",
        "  n = len(binary)\n",
        "  H = quimb.hadamard()\n",
        "  swap = np.array(quimb.swap())\n",
        "\n",
        "  for i in range(int(n/2)):\n",
        "    mps_state.gate_(swap, (i, n-(i+1)), tags = 'Swap', max_bond = 2, contract = contract_value)\n",
        "\n",
        "  for i in np.arange(n):\n",
        "    for j in np.arange(i+1, n):\n",
        "      phase = -1/2**(j-i)\n",
        "      # cphase = np.array(quimb.controlled('z'))**phase\n",
        "      cphase = np.array([\n",
        "    [1.+0.j, 0.+0.j, 0.+0.j, 0.+0.j],\n",
        "    [0.+0.j, 1.+0.j, 0.+0.j, 0.+0.j],\n",
        "    [0.+0.j, 0.+0.j, 1.+0.j, 0.+0.j],\n",
        "    [0.+0.j, 0.+0.j, 0.+0.j, np.exp(1j * phase)]\n",
        "]) #The actual Controlled Phase operation as denoted in the theory\n",
        "\n",
        "      mps_state.gate_(cphase, (j,i), tags = 'CP', max_bond = 2, contract = contract_value)\n",
        "\n",
        "    mps_state.gate_(H, i, tags = 'H', contract = contract_value_h)\n",
        "\n",
        "  return mps_state\n",
        "\n",
        "\n",
        "#The black box operation\n",
        "def opUx(mps_p, a, power, N):\n",
        "  # n = len(mps_p.site_inds)\n",
        "  n = len(toBinary(t))\n",
        "  swap = qu.swap()\n",
        "  X = qu.pauli('X')\n",
        "\n",
        "  for i in range(power):\n",
        "    for j in range(n-1, 0, -1):\n",
        "      # print(\"Debug value first j: \", j)\n",
        "      mps_p.gate_(swap, (0, j), tags = 'Swap', max_bond = 2, contract = True)\n",
        "    for j in range(n):\n",
        "      # print(\"Debug value second j: \", j)\n",
        "      mps_p.gate_(X, j, tags = 'X', max_bond = 2, contract = True)\n",
        "\n",
        "  return mps_p"
      ],
      "metadata": {
        "id": "36EqzoglOyRS"
      },
      "execution_count": 3,
      "outputs": []
    },
    {
      "cell_type": "markdown",
      "source": [
        "# The main code"
      ],
      "metadata": {
        "id": "GhUOj5TFQ4K2"
      }
    },
    {
      "cell_type": "code",
      "source": [
        "# The number to be factorized\n",
        "N = 50463\n",
        "\n",
        "#The guess number\n",
        "a= 37\n",
        "\n"
      ],
      "metadata": {
        "id": "PsyPfEm2Xw-W"
      },
      "execution_count": 33,
      "outputs": []
    },
    {
      "cell_type": "code",
      "source": [
        "\n",
        "e = 0.1\n",
        "L = ceil(log2(N))\n",
        "t = ceil(2 * L + 1 + (2 + 1/(2*e)))\n",
        "\n",
        "\n",
        "n = len(toBinary(t)) #The first register qubits initialized as 0\n",
        "m = 2 * n #Total qubits number in the circuit\n",
        "\n",
        "p = qtn.MPS_computational_state('0'*m, dtype = 'float64', cyclic = False)\n",
        "\n",
        "\n",
        "\n",
        "for i in range(n):\n",
        "  p.gate_(H, i) #Applying Hadamard for the first register qubits\n",
        "\n",
        "p.gate_(X, m-1) #Changing the last qubit of the second register to state |1>\n",
        "\n",
        "for i in range(n):\n",
        "  opUx(p, a, 2**i, N) #Applying the Controlled Unitary Black operation from the first n qubits\n",
        "\n",
        "\n",
        "inverse_qft(p, toBinary(t), True, True)  # Perfoming the inverse QFT operation to get back the state containing the order"
      ],
      "metadata": {
        "colab": {
          "base_uri": "https://localhost:8080/",
          "height": 32
        },
        "id": "Y8wByBoUQfAk",
        "outputId": "553e3256-24cf-421c-e69e-14a0eec55e1b"
      },
      "execution_count": 34,
      "outputs": [
        {
          "output_type": "execute_result",
          "data": {
            "text/plain": [
              "MatrixProductState(tensors=14, indices=30, L=12, max_bond=2)"
            ],
            "text/html": [
              "<samp style='font-size: 12px;'><details><summary><b style=\"color: #d75692;\">MatrixProductState</b>(tensors=14, indices=30, L=12, max_bond=2)</summary><samp style='font-size: 12px;'><details><summary><b style=\"color: #e55471;\">Tensor</b>(shape=(<b style=\"color: #45ce3d;\">1</b>, <b style=\"color: #828fdd;\">2</b>), inds=[<b style=\"color: #7edf55;\">_468228AABgf</b>, <b style=\"color: #cd6193;\">_468228AABgq</b>], tags={<b style=\"color: #d2b137;\">I0</b>}),</summary>backend=<b style=\"color: #7fdd73;\">numpy</b>, dtype=<b style=\"color: #75d2c6;\">float64</b>, data=array([[1., 0.]])</details></samp><samp style='font-size: 12px;'><details><summary><b style=\"color: #e55471;\">Tensor</b>(shape=(<b style=\"color: #45ce3d;\">1</b>, <b style=\"color: #45ce3d;\">1</b>, <b style=\"color: #828fdd;\">2</b>), inds=[<b style=\"color: #7edf55;\">_468228AABgf</b>, <b style=\"color: #bb69dc;\">_468228AABgg</b>, <b style=\"color: #dfa862;\">_468228AABgr</b>], tags={<b style=\"color: #d19b78;\">I1</b>}),</summary>backend=<b style=\"color: #7fdd73;\">numpy</b>, dtype=<b style=\"color: #75d2c6;\">float64</b>, data=array([[[1., 0.]]])</details></samp><samp style='font-size: 12px;'><details><summary><b style=\"color: #e55471;\">Tensor</b>(shape=(<b style=\"color: #45ce3d;\">1</b>, <b style=\"color: #45ce3d;\">1</b>, <b style=\"color: #828fdd;\">2</b>), inds=[<b style=\"color: #bb69dc;\">_468228AABgg</b>, <b style=\"color: #3acd34;\">_468228AABgh</b>, <b style=\"color: #e38843;\">_468228AABgs</b>], tags={<b style=\"color: #dd5dd7;\">I2</b>}),</summary>backend=<b style=\"color: #7fdd73;\">numpy</b>, dtype=<b style=\"color: #75d2c6;\">float64</b>, data=array([[[1., 0.]]])</details></samp><samp style='font-size: 12px;'><details><summary><b style=\"color: #e55471;\">Tensor</b>(shape=(<b style=\"color: #45ce3d;\">1</b>, <b style=\"color: #45ce3d;\">1</b>, <b style=\"color: #828fdd;\">2</b>), inds=[<b style=\"color: #3acd34;\">_468228AABgh</b>, <b style=\"color: #4dc9d4;\">_468228AABgi</b>, <b style=\"color: #d37cb0;\">_468228AABgt</b>], tags={<b style=\"color: #dd65d9;\">I3</b>}),</summary>backend=<b style=\"color: #7fdd73;\">numpy</b>, dtype=<b style=\"color: #75d2c6;\">float64</b>, data=array([[[1., 0.]]])</details></samp><samp style='font-size: 12px;'><details><summary><b style=\"color: #e55471;\">Tensor</b>(shape=(<b style=\"color: #45ce3d;\">1</b>, <b style=\"color: #45ce3d;\">1</b>, <b style=\"color: #828fdd;\">2</b>), inds=[<b style=\"color: #4dc9d4;\">_468228AABgi</b>, <b style=\"color: #aadf74;\">_468228AABgj</b>, <b style=\"color: #9369e4;\">_468228AABgu</b>], tags={<b style=\"color: #998ad1;\">I4</b>}),</summary>backend=<b style=\"color: #7fdd73;\">numpy</b>, dtype=<b style=\"color: #75d2c6;\">float64</b>, data=array([[[1., 0.]]])</details></samp><samp style='font-size: 12px;'><details><summary><b style=\"color: #e55471;\">Tensor</b>(shape=(<b style=\"color: #45ce3d;\">1</b>, <b style=\"color: #45ce3d;\">1</b>, <b style=\"color: #828fdd;\">2</b>), inds=[<b style=\"color: #aadf74;\">_468228AABgj</b>, <b style=\"color: #86a4d5;\">_468228AABgk</b>, <b style=\"color: #2dd73e;\">_468228AABgv</b>], tags={<b style=\"color: #97dddc;\">I5</b>}),</summary>backend=<b style=\"color: #7fdd73;\">numpy</b>, dtype=<b style=\"color: #75d2c6;\">float64</b>, data=array([[[1., 0.]]])</details></samp><samp style='font-size: 12px;'><details><summary><b style=\"color: #e55471;\">Tensor</b>(shape=(<b style=\"color: #45ce3d;\">1</b>, <b style=\"color: #45ce3d;\">1</b>, <b style=\"color: #828fdd;\">2</b>), inds=[<b style=\"color: #86a4d5;\">_468228AABgk</b>, <b style=\"color: #d6354f;\">_468228AABgl</b>, <b style=\"color: #2cb7d3;\">k6</b>], tags={<b style=\"color: #b2de5f;\">I6</b>}),</summary>backend=<b style=\"color: #7fdd73;\">numpy</b>, dtype=<b style=\"color: #75d2c6;\">float64</b>, data=array([[[1., 0.]]])</details></samp><samp style='font-size: 12px;'><details><summary><b style=\"color: #e55471;\">Tensor</b>(shape=(<b style=\"color: #45ce3d;\">1</b>, <b style=\"color: #45ce3d;\">1</b>, <b style=\"color: #828fdd;\">2</b>), inds=[<b style=\"color: #d6354f;\">_468228AABgl</b>, <b style=\"color: #d6b541;\">_468228AABgm</b>, <b style=\"color: #53e08f;\">k7</b>], tags={<b style=\"color: #5582d6;\">I7</b>}),</summary>backend=<b style=\"color: #7fdd73;\">numpy</b>, dtype=<b style=\"color: #75d2c6;\">float64</b>, data=array([[[1., 0.]]])</details></samp><samp style='font-size: 12px;'><details><summary><b style=\"color: #e55471;\">Tensor</b>(shape=(<b style=\"color: #45ce3d;\">1</b>, <b style=\"color: #45ce3d;\">1</b>, <b style=\"color: #828fdd;\">2</b>), inds=[<b style=\"color: #d6b541;\">_468228AABgm</b>, <b style=\"color: #da885f;\">_468228AABgn</b>, <b style=\"color: #7bcd9f;\">k8</b>], tags={<b style=\"color: #8a3dd8;\">I8</b>}),</summary>backend=<b style=\"color: #7fdd73;\">numpy</b>, dtype=<b style=\"color: #75d2c6;\">float64</b>, data=array([[[1., 0.]]])</details></samp><samp style='font-size: 12px;'><details><summary><b style=\"color: #e55471;\">Tensor</b>(shape=(<b style=\"color: #45ce3d;\">1</b>, <b style=\"color: #45ce3d;\">1</b>, <b style=\"color: #828fdd;\">2</b>), inds=[<b style=\"color: #da885f;\">_468228AABgn</b>, <b style=\"color: #7782e4;\">_468228AABgo</b>, <b style=\"color: #cc70c1;\">k9</b>], tags={<b style=\"color: #d74979;\">I9</b>}),</summary>backend=<b style=\"color: #7fdd73;\">numpy</b>, dtype=<b style=\"color: #75d2c6;\">float64</b>, data=array([[[1., 0.]]])</details></samp><samp style='font-size: 12px;'><details><summary><b style=\"color: #e55471;\">Tensor</b>(shape=(<b style=\"color: #45ce3d;\">1</b>, <b style=\"color: #45ce3d;\">1</b>, <b style=\"color: #828fdd;\">2</b>), inds=[<b style=\"color: #7782e4;\">_468228AABgo</b>, <b style=\"color: #8a86d5;\">_468228AABgp</b>, <b style=\"color: #3fcf58;\">k10</b>], tags={<b style=\"color: #4e2bd3;\">I10</b>}),</summary>backend=<b style=\"color: #7fdd73;\">numpy</b>, dtype=<b style=\"color: #75d2c6;\">float64</b>, data=array([[[1., 0.]]])</details></samp><samp style='font-size: 12px;'><details><summary><b style=\"color: #e55471;\">Tensor</b>(shape=(<b style=\"color: #45ce3d;\">1</b>, <b style=\"color: #828fdd;\">2</b>), inds=[<b style=\"color: #8a86d5;\">_468228AABgp</b>, <b style=\"color: #6a6ee1;\">_468228AABgw</b>], tags={<b style=\"color: #cc3988;\">I11</b>}),</summary>backend=<b style=\"color: #7fdd73;\">numpy</b>, dtype=<b style=\"color: #75d2c6;\">float64</b>, data=array([[1., 0.]])</details></samp><samp style='font-size: 12px;'><details><summary><b style=\"color: #e55471;\">Tensor</b>(shape=(<b style=\"color: #828fdd;\">2</b>, <b style=\"color: #828fdd;\">2</b>), inds=[<b style=\"color: #6d6fcf;\">k11</b>, <b style=\"color: #6a6ee1;\">_468228AABgw</b>], tags={<b style=\"color: #cc3988;\">I11</b>}),</summary>backend=<b style=\"color: #7fdd73;\">numpy</b>, dtype=<b style=\"color: #443ce1;\">complex128</b>, data=array([[0.+0.j, 1.+0.j],\n",
              "       [1.+0.j, 0.+0.j]])</details></samp><samp style='font-size: 12px;'><details><summary><b style=\"color: #e55471;\">Tensor</b>(shape=(<b style=\"color: #828fdd;\">2</b>, <b style=\"color: #828fdd;\">2</b>, <b style=\"color: #828fdd;\">2</b>, <b style=\"color: #828fdd;\">2</b>, <b style=\"color: #828fdd;\">2</b>, <b style=\"color: #828fdd;\">2</b>, <b style=\"color: #828fdd;\">2</b>, <b style=\"color: #828fdd;\">2</b>, <b style=\"color: #828fdd;\">2</b>, <b style=\"color: #828fdd;\">2</b>, <b style=\"color: #828fdd;\">2</b>, <b style=\"color: #828fdd;\">2</b>), inds=[<b style=\"color: #cd6193;\">_468228AABgq</b>, <b style=\"color: #2dd73e;\">_468228AABgv</b>, <b style=\"color: #9369e4;\">_468228AABgu</b>, <b style=\"color: #d37cb0;\">_468228AABgt</b>, <b style=\"color: #e38843;\">_468228AABgs</b>, <b style=\"color: #dfa862;\">_468228AABgr</b>, <b style=\"color: #b1dc61;\">k0</b>, <b style=\"color: #8aa5db;\">k1</b>, <b style=\"color: #df546d;\">k2</b>, <b style=\"color: #4c7be1;\">k3</b>, <b style=\"color: #85dfdf;\">k5</b>, <b style=\"color: #462edc;\">k4</b>], tags={<b style=\"color: #d2b137;\">I0</b>, <b style=\"color: #97dddc;\">I5</b>, <b style=\"color: #89a6d8;\">Swap</b>, <b style=\"color: #998ad1;\">I4</b>, <b style=\"color: #dd65d9;\">I3</b>, <b style=\"color: #dd5dd7;\">I2</b>, <b style=\"color: #d19b78;\">I1</b>, <b style=\"color: #6bd453;\">X</b>, <b style=\"color: #75db94;\">CP</b>, <b style=\"color: #a17ee2;\">H</b>}),</summary>backend=<b style=\"color: #7fdd73;\">numpy</b>, dtype=<b style=\"color: #443ce1;\">complex128</b>, data=...</details></samp></details></samp>"
            ]
          },
          "metadata": {},
          "execution_count": 34
        }
      ]
    },
    {
      "cell_type": "code",
      "source": [
        "statevector = np.abs(p.to_dense())\n",
        "\n",
        "#The actual statevector containing the 2^n states rather than 2^m\n",
        "\n",
        "statevector_pm=np.array([statevector[i] for i in statevector.nonzero()[0]])\n",
        "statevector_pm /= np.linalg.norm(statevector_pm)\n",
        "\n",
        "state_dict = {i : statevector_pm[i, 0] for i in range(1, 32)}\n",
        "\n",
        "keys_quimb = [i for i in state_dict.keys()]"
      ],
      "metadata": {
        "id": "PeM7Lp_OX31Q"
      },
      "execution_count": 35,
      "outputs": []
    },
    {
      "cell_type": "markdown",
      "source": [
        "# Printing out the factors"
      ],
      "metadata": {
        "id": "F-PgDcUnYzB3"
      }
    },
    {
      "cell_type": "code",
      "source": [
        "import math\n",
        "import numpy as np\n",
        "from fractions import Fraction\n",
        "\n",
        "for i in keys_quimb:\n",
        "    if i % 2 == 0:\n",
        "        x = (a**(i//2)) % N\n",
        "        temp_p = math.gcd(x-1, N)\n",
        "        temp_q = math.gcd(x+1, N)\n",
        "\n",
        "        if temp_p != 1 and temp_p != N:\n",
        "            p = temp_p\n",
        "        if temp_q != 1 and temp_q != N:\n",
        "            q = temp_q\n",
        "        else:\n",
        "            continue\n",
        "    else:\n",
        "        continue\n",
        "\n",
        "if N % a == 0:\n",
        "    p = a\n",
        "    q = N // a\n",
        "    print(\"The value you chose for \\\"a\\\" is a factor of \\\"N\\\"!\")\n",
        "    print(\"N =\", N)\n",
        "    print(\"Prime Factor 1 =\", p)\n",
        "    print(\"Prime Factor 2 =\", q)\n",
        "else:\n",
        "    if p != 0:\n",
        "        q = N // p\n",
        "    elif q != 0:\n",
        "        p = N // q\n",
        "\n",
        "    if p == 0 and q == 0:\n",
        "        print(\"Try a different value for \\\"a\\\"!\")\n",
        "    else:\n",
        "        print(\"The number to be factorized N =\", N)\n",
        "        print(\"Prime Factor 1 =\", p)\n",
        "        print(\"Prime Factor 2 =\", q)\n"
      ],
      "metadata": {
        "colab": {
          "base_uri": "https://localhost:8080/"
        },
        "id": "d_vpjWJjYp6h",
        "outputId": "8780484e-7932-4818-ccf6-ea6078a2ea59"
      },
      "execution_count": 36,
      "outputs": [
        {
          "output_type": "stream",
          "name": "stdout",
          "text": [
            "The number to be factorized N = 50463\n",
            "Prime Factor 1 = 189\n",
            "Prime Factor 2 = 267\n"
          ]
        }
      ]
    },
    {
      "cell_type": "code",
      "source": [],
      "metadata": {
        "id": "5tHelYtvY1wA"
      },
      "execution_count": null,
      "outputs": []
    }
  ]
}